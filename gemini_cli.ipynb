{
  "nbformat": 4,
  "nbformat_minor": 0,
  "metadata": {
    "colab": {
      "provenance": [],
      "authorship_tag": "ABX9TyN1mmS+mG5dn6Ny5F93SYVb",
      "include_colab_link": true
    },
    "kernelspec": {
      "name": "python3",
      "display_name": "Python 3"
    },
    "language_info": {
      "name": "python"
    }
  },
  "cells": [
    {
      "cell_type": "markdown",
      "metadata": {
        "id": "view-in-github",
        "colab_type": "text"
      },
      "source": [
        "<a href=\"https://colab.research.google.com/github/noailabs/AI-agents-hacks/blob/main/gemini_cli.ipynb\" target=\"_parent\"><img src=\"https://colab.research.google.com/assets/colab-badge.svg\" alt=\"Open In Colab\"/></a>"
      ]
    },
    {
      "cell_type": "code",
      "source": [
        "from google.colab import userdata\n",
        "import os\n",
        "os.environ[\"GEMINI_API_KEY\"]=userdata.get('GEMINI_API_KEY')"
      ],
      "metadata": {
        "id": "Gx8oJ6dJaubA"
      },
      "execution_count": 1,
      "outputs": []
    },
    {
      "cell_type": "code",
      "source": [
        "# optional save to .env\n",
        "from google.colab import userdata\n",
        "import os\n",
        "\n",
        "env=f\"\"\"GEMINI_API_KEY={userdata.get('GEMINI_API_KEY')}\"\"\"\n",
        "\n",
        "\n",
        "\n",
        "with open('.env', 'w') as file:\n",
        "  file.write(env)\n",
        "\n"
      ],
      "metadata": {
        "id": "YLtUGIIFVlfv"
      },
      "execution_count": 2,
      "outputs": []
    },
    {
      "cell_type": "code",
      "source": [
        "!npm install -g @google/gemini-cli --force"
      ],
      "metadata": {
        "id": "8CiBZLgIOTBI"
      },
      "execution_count": null,
      "outputs": []
    },
    {
      "cell_type": "code",
      "source": [
        "%%writefile GEMINI.md\n",
        "\n",
        "# Project Overview\n",
        "\n",
        "This project is a [brief description of the project, e.g., Python Flask web application for a to-do list]. The primary goal is to [main objective of the project].\n",
        "\n",
        "# Coding Style and Conventions\n",
        "\n",
        "- **Language:** [Primary programming language, e.g., Python 3.9]\n",
        "- **Frameworks:** [List of frameworks used, e.g., Flask, SQLAlchemy]\n",
        "- **Styling:** [Styling conventions, e.g., Adhere to PEP 8 for Python. Use Bootstrap for front-end styling.]\n",
        "- **Comments:** [Instructions on code comments, e.g., Add docstrings to all functions.]\n",
        "- **Dependencies:** Key dependencies are listed in `requirements.txt`.\n",
        "\n",
        "# Tools and Commands\n",
        "\n",
        "- To run the application, use the command: `flask run`\n",
        "- To install dependencies, use: `pip install -r requirements.txt`\n",
        "- The agent has permission to use the `write-file` and `web-search` tools. [2]\n",
        "\n",
        "# Project Rules and Guidelines\n",
        "\n",
        "- When creating new features, please include sub-task functionality. [2]\n",
        "- All new endpoints should have corresponding unit tests.\n",
        "- Always ask for clarification before making significant changes to the existing codebase.\n",
        "\n",
        "# External Documentation\n",
        "\n",
        "- For information on Flask, refer to the official documentation: https://flask.palletsprojects.com/\n",
        "- For Bootstrap guidance, see: https://getbootstrap.com/docs/5.3/getting-started/introduction/"
      ],
      "metadata": {
        "colab": {
          "base_uri": "https://localhost:8080/"
        },
        "id": "6KtagsvbwAbJ",
        "outputId": "47488ff8-9e69-4ab5-8373-1d047b5de289"
      },
      "execution_count": 4,
      "outputs": [
        {
          "output_type": "stream",
          "name": "stdout",
          "text": [
            "Writing DEMINI.md\n"
          ]
        }
      ]
    },
    {
      "cell_type": "code",
      "source": [
        "# open terminal and start gemini"
      ],
      "metadata": {
        "id": "kb5I4SX4OclK"
      },
      "execution_count": null,
      "outputs": []
    }
  ]
}