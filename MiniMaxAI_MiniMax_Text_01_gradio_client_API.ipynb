{
  "nbformat": 4,
  "nbformat_minor": 0,
  "metadata": {
    "colab": {
      "provenance": [],
      "authorship_tag": "ABX9TyOXVbDUFIt2hFpDE9hoLG0z",
      "include_colab_link": true
    },
    "kernelspec": {
      "name": "python3",
      "display_name": "Python 3"
    },
    "language_info": {
      "name": "python"
    }
  },
  "cells": [
    {
      "cell_type": "markdown",
      "metadata": {
        "id": "view-in-github",
        "colab_type": "text"
      },
      "source": [
        "<a href=\"https://colab.research.google.com/github/sbagency/AI-agents-hacks/blob/main/MiniMaxAI_MiniMax_Text_01_gradio_client_API.ipynb\" target=\"_parent\"><img src=\"https://colab.research.google.com/assets/colab-badge.svg\" alt=\"Open In Colab\"/></a>"
      ]
    },
    {
      "cell_type": "code",
      "source": [
        "!pip install gradio_client"
      ],
      "metadata": {
        "id": "qscWPq79kwZ2"
      },
      "execution_count": null,
      "outputs": []
    },
    {
      "cell_type": "code",
      "execution_count": null,
      "metadata": {
        "id": "cvL_1WuPkuHf"
      },
      "outputs": [],
      "source": [
        "from gradio_client import Client\n",
        "\n",
        "client = Client(\"MiniMaxAI/MiniMax-Text-01\")\n",
        "result = client.predict(\n",
        "\t\tmessage=\"Terll me a joke about a horse!\",\n",
        "\t\tmax_tokens=12800,\n",
        "\t\ttemperature=0.1,\n",
        "\t\ttop_p=0.9,\n",
        "\t\tapi_name=\"/chat\"\n",
        ")\n",
        "print(result)"
      ]
    },
    {
      "cell_type": "code",
      "source": [
        "from gradio_client import Client\n",
        "\n",
        "client = Client(\"MiniMaxAI/MiniMax-Text-01\")\n",
        "result = client.predict(\n",
        "\t\tmessage=\"Расскажи шутку про кота\",\n",
        "\t\tmax_tokens=12800,\n",
        "\t\ttemperature=0.1,\n",
        "\t\ttop_p=0.9,\n",
        "\t\tapi_name=\"/chat\"\n",
        ")\n",
        "print(result)"
      ],
      "metadata": {
        "id": "kiAKE3vFle8k"
      },
      "execution_count": null,
      "outputs": []
    },
    {
      "cell_type": "code",
      "source": [
        "# https://www.youtube.com/watch?v=29tIiz8KbVI"
      ],
      "metadata": {
        "id": "6dTqum8cmHTp"
      },
      "execution_count": null,
      "outputs": []
    },
    {
      "cell_type": "code",
      "source": [
        "!pip install youtube-transcript-api"
      ],
      "metadata": {
        "id": "ovH0b5KipBTC"
      },
      "execution_count": null,
      "outputs": []
    },
    {
      "cell_type": "code",
      "source": [
        "from youtube_transcript_api import YouTubeTranscriptApi\n",
        "video_id=\"29tIiz8KbVI\"\n",
        "result = YouTubeTranscriptApi.get_transcript(video_id,languages=['ru'])\n",
        "transcript = \"\\n\".join([item['text'] for item in result])\n",
        "print(transcript)"
      ],
      "metadata": {
        "id": "bXrs776TphiB"
      },
      "execution_count": null,
      "outputs": []
    },
    {
      "cell_type": "code",
      "source": [
        "PROMPT=\"\"\"\n",
        "Суммаризируй текст:\n",
        "\n",
        "{text}\n",
        "\"\"\"\n",
        "\n",
        "from gradio_client import Client\n",
        "\n",
        "client = Client(\"MiniMaxAI/MiniMax-Text-01\")\n",
        "result = client.predict(\n",
        "\t\tmessage=PROMPT.format(text=transcript),\n",
        "\t\tmax_tokens=12800,\n",
        "\t\ttemperature=0.1,\n",
        "\t\ttop_p=0.9,\n",
        "\t\tapi_name=\"/chat\"\n",
        ")\n",
        "print(result)"
      ],
      "metadata": {
        "collapsed": true,
        "id": "XZztpv79qFqz"
      },
      "execution_count": null,
      "outputs": []
    }
  ]
}