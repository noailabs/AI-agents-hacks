{
  "nbformat": 4,
  "nbformat_minor": 0,
  "metadata": {
    "colab": {
      "provenance": [],
      "authorship_tag": "ABX9TyPt8C5bG+U7O1oGUp/OuWQN",
      "include_colab_link": true
    },
    "kernelspec": {
      "name": "python3",
      "display_name": "Python 3"
    },
    "language_info": {
      "name": "python"
    }
  },
  "cells": [
    {
      "cell_type": "markdown",
      "metadata": {
        "id": "view-in-github",
        "colab_type": "text"
      },
      "source": [
        "<a href=\"https://colab.research.google.com/github/noailabs/AI-agents-hacks/blob/main/Summarizer_openrouter.ipynb\" target=\"_parent\"><img src=\"https://colab.research.google.com/assets/colab-badge.svg\" alt=\"Open In Colab\"/></a>"
      ]
    },
    {
      "cell_type": "code",
      "source": [
        "bigtext=\"\"\"\n",
        "\n",
        "\"\"\""
      ],
      "metadata": {
        "id": "zOGeLmvC_nVT"
      },
      "execution_count": 1,
      "outputs": []
    },
    {
      "cell_type": "code",
      "source": [
        "from openai import OpenAI\n",
        "from google.colab import userdata\n",
        "import sys\n",
        "import os\n",
        "\n",
        "model=\"deepseek/deepseek-chat-v3-0324:free\"\n",
        "#model=\"meta-llama/llama-4-maverick:free\"\n",
        "\n",
        "settings={\n",
        "    \"temperature\":1.0,\n",
        "    \"top_p\":1.0\n",
        "}\n",
        "\n",
        "client = OpenAI(\n",
        "  base_url=\"https://openrouter.ai/api/v1\",\n",
        "  api_key=userdata.get('OPENROUTER_API_KEY'),\n",
        ")\n",
        "\n",
        "\n",
        "SYSTEM_PROMPT=\"You are text analysis assinstant.\"\n",
        "prompt=\"Summarize:  \\n\"+bigtext\n",
        "stream=True\n",
        "\n",
        "messages=[\n",
        "    {\n",
        "      \"role\": \"system\",\n",
        "      \"content\": SYSTEM_PROMPT\n",
        "    },\n",
        "    {\n",
        "      \"role\": \"user\",\n",
        "      \"content\": prompt\n",
        "    }\n",
        "]\n",
        "\n",
        "\n",
        "response=\"\"\n",
        "if stream:\n",
        "  completion = client.chat.completions.create(\n",
        "    model=model,\n",
        "    messages=messages,\n",
        "    stream=True,\n",
        "    **settings,\n",
        "  )\n",
        "  for chunk in completion:\n",
        "    content = chunk.choices[0].delta.content\n",
        "    if content is not None:\n",
        "        response+=content\n",
        "        sys.stdout.write(content)\n",
        "        sys.stdout.flush()\n",
        "  print()\n",
        "else:\n",
        "  completion = client.chat.completions.create(\n",
        "    model=model,\n",
        "    messages=messages,\n",
        "    stream=False,\n",
        "    **settings,\n",
        "  )\n",
        "  response=completion.choices[0].message.content\n",
        "  print(response)\n",
        "\n",
        "# messages.append({\"role\": \"assistant\", \"content\": response})\n"
      ],
      "metadata": {
        "id": "SJRBaq6dQgJU"
      },
      "execution_count": null,
      "outputs": []
    },
    {
      "cell_type": "code",
      "source": [],
      "metadata": {
        "id": "Oa5wEHXc_Ric"
      },
      "execution_count": null,
      "outputs": []
    }
  ]
}